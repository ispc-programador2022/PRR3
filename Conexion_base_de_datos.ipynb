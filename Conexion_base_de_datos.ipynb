{
  "nbformat": 4,
  "nbformat_minor": 0,
  "metadata": {
    "colab": {
      "provenance": []
    },
    "kernelspec": {
      "name": "python3",
      "display_name": "Python 3"
    },
    "language_info": {
      "name": "python"
    }
  },
  "cells": [
    {
      "cell_type": "code",
      "execution_count": 1,
      "metadata": {
        "id": "hWYkyO-CqgH3"
      },
      "outputs": [],
      "source": [
        "import sqlite3\n",
        "import pandas as pd"
      ]
    },
    {
      "cell_type": "code",
      "source": [
        "datos = pd.read_csv(\"/content/drive/MyDrive/ISPC/PRR3/Libros_mas_vendidos_Bookdepository.csv\")\n",
        "\n",
        "datos.head()"
      ],
      "metadata": {
        "id": "WqrOflBMsYlq",
        "colab": {
          "base_uri": "https://localhost:8080/",
          "height": 206
        },
        "outputId": "0ea934fc-8184-49b1-d95f-a3c998c48f44"
      },
      "execution_count": 2,
      "outputs": [
        {
          "output_type": "execute_result",
          "data": {
            "text/plain": [
              "                                              Titulo                Autor  \\\n",
              "0                               I Don't Need Therapy           Toni Lodge   \n",
              "1                      It Ends With Us: The most ...       Colleen Hoover   \n",
              "2                                             Verity       Colleen Hoover   \n",
              "3                      JOURNEY. THE ART OF CARLES...        CARLES DALMAU   \n",
              "4                      The Seven Moons of Maali A...  Shehan Karunatilaka   \n",
              "\n",
              "   Fecha_Publicacion  Precio_en_dolares  \n",
              "0               2023              19.79  \n",
              "1               2016              12.52  \n",
              "2               2022               7.37  \n",
              "3               2022              32.23  \n",
              "4               2022              18.66  "
            ],
            "text/html": [
              "\n",
              "  <div id=\"df-e9dc1bc1-e3d3-4788-8049-7890ae5e9843\">\n",
              "    <div class=\"colab-df-container\">\n",
              "      <div>\n",
              "<style scoped>\n",
              "    .dataframe tbody tr th:only-of-type {\n",
              "        vertical-align: middle;\n",
              "    }\n",
              "\n",
              "    .dataframe tbody tr th {\n",
              "        vertical-align: top;\n",
              "    }\n",
              "\n",
              "    .dataframe thead th {\n",
              "        text-align: right;\n",
              "    }\n",
              "</style>\n",
              "<table border=\"1\" class=\"dataframe\">\n",
              "  <thead>\n",
              "    <tr style=\"text-align: right;\">\n",
              "      <th></th>\n",
              "      <th>Titulo</th>\n",
              "      <th>Autor</th>\n",
              "      <th>Fecha_Publicacion</th>\n",
              "      <th>Precio_en_dolares</th>\n",
              "    </tr>\n",
              "  </thead>\n",
              "  <tbody>\n",
              "    <tr>\n",
              "      <th>0</th>\n",
              "      <td>I Don't Need Therapy</td>\n",
              "      <td>Toni Lodge</td>\n",
              "      <td>2023</td>\n",
              "      <td>19.79</td>\n",
              "    </tr>\n",
              "    <tr>\n",
              "      <th>1</th>\n",
              "      <td>It Ends With Us: The most ...</td>\n",
              "      <td>Colleen Hoover</td>\n",
              "      <td>2016</td>\n",
              "      <td>12.52</td>\n",
              "    </tr>\n",
              "    <tr>\n",
              "      <th>2</th>\n",
              "      <td>Verity</td>\n",
              "      <td>Colleen Hoover</td>\n",
              "      <td>2022</td>\n",
              "      <td>7.37</td>\n",
              "    </tr>\n",
              "    <tr>\n",
              "      <th>3</th>\n",
              "      <td>JOURNEY. THE ART OF CARLES...</td>\n",
              "      <td>CARLES DALMAU</td>\n",
              "      <td>2022</td>\n",
              "      <td>32.23</td>\n",
              "    </tr>\n",
              "    <tr>\n",
              "      <th>4</th>\n",
              "      <td>The Seven Moons of Maali A...</td>\n",
              "      <td>Shehan Karunatilaka</td>\n",
              "      <td>2022</td>\n",
              "      <td>18.66</td>\n",
              "    </tr>\n",
              "  </tbody>\n",
              "</table>\n",
              "</div>\n",
              "      <button class=\"colab-df-convert\" onclick=\"convertToInteractive('df-e9dc1bc1-e3d3-4788-8049-7890ae5e9843')\"\n",
              "              title=\"Convert this dataframe to an interactive table.\"\n",
              "              style=\"display:none;\">\n",
              "        \n",
              "  <svg xmlns=\"http://www.w3.org/2000/svg\" height=\"24px\"viewBox=\"0 0 24 24\"\n",
              "       width=\"24px\">\n",
              "    <path d=\"M0 0h24v24H0V0z\" fill=\"none\"/>\n",
              "    <path d=\"M18.56 5.44l.94 2.06.94-2.06 2.06-.94-2.06-.94-.94-2.06-.94 2.06-2.06.94zm-11 1L8.5 8.5l.94-2.06 2.06-.94-2.06-.94L8.5 2.5l-.94 2.06-2.06.94zm10 10l.94 2.06.94-2.06 2.06-.94-2.06-.94-.94-2.06-.94 2.06-2.06.94z\"/><path d=\"M17.41 7.96l-1.37-1.37c-.4-.4-.92-.59-1.43-.59-.52 0-1.04.2-1.43.59L10.3 9.45l-7.72 7.72c-.78.78-.78 2.05 0 2.83L4 21.41c.39.39.9.59 1.41.59.51 0 1.02-.2 1.41-.59l7.78-7.78 2.81-2.81c.8-.78.8-2.07 0-2.86zM5.41 20L4 18.59l7.72-7.72 1.47 1.35L5.41 20z\"/>\n",
              "  </svg>\n",
              "      </button>\n",
              "      \n",
              "  <style>\n",
              "    .colab-df-container {\n",
              "      display:flex;\n",
              "      flex-wrap:wrap;\n",
              "      gap: 12px;\n",
              "    }\n",
              "\n",
              "    .colab-df-convert {\n",
              "      background-color: #E8F0FE;\n",
              "      border: none;\n",
              "      border-radius: 50%;\n",
              "      cursor: pointer;\n",
              "      display: none;\n",
              "      fill: #1967D2;\n",
              "      height: 32px;\n",
              "      padding: 0 0 0 0;\n",
              "      width: 32px;\n",
              "    }\n",
              "\n",
              "    .colab-df-convert:hover {\n",
              "      background-color: #E2EBFA;\n",
              "      box-shadow: 0px 1px 2px rgba(60, 64, 67, 0.3), 0px 1px 3px 1px rgba(60, 64, 67, 0.15);\n",
              "      fill: #174EA6;\n",
              "    }\n",
              "\n",
              "    [theme=dark] .colab-df-convert {\n",
              "      background-color: #3B4455;\n",
              "      fill: #D2E3FC;\n",
              "    }\n",
              "\n",
              "    [theme=dark] .colab-df-convert:hover {\n",
              "      background-color: #434B5C;\n",
              "      box-shadow: 0px 1px 3px 1px rgba(0, 0, 0, 0.15);\n",
              "      filter: drop-shadow(0px 1px 2px rgba(0, 0, 0, 0.3));\n",
              "      fill: #FFFFFF;\n",
              "    }\n",
              "  </style>\n",
              "\n",
              "      <script>\n",
              "        const buttonEl =\n",
              "          document.querySelector('#df-e9dc1bc1-e3d3-4788-8049-7890ae5e9843 button.colab-df-convert');\n",
              "        buttonEl.style.display =\n",
              "          google.colab.kernel.accessAllowed ? 'block' : 'none';\n",
              "\n",
              "        async function convertToInteractive(key) {\n",
              "          const element = document.querySelector('#df-e9dc1bc1-e3d3-4788-8049-7890ae5e9843');\n",
              "          const dataTable =\n",
              "            await google.colab.kernel.invokeFunction('convertToInteractive',\n",
              "                                                     [key], {});\n",
              "          if (!dataTable) return;\n",
              "\n",
              "          const docLinkHtml = 'Like what you see? Visit the ' +\n",
              "            '<a target=\"_blank\" href=https://colab.research.google.com/notebooks/data_table.ipynb>data table notebook</a>'\n",
              "            + ' to learn more about interactive tables.';\n",
              "          element.innerHTML = '';\n",
              "          dataTable['output_type'] = 'display_data';\n",
              "          await google.colab.output.renderOutput(dataTable, element);\n",
              "          const docLink = document.createElement('div');\n",
              "          docLink.innerHTML = docLinkHtml;\n",
              "          element.appendChild(docLink);\n",
              "        }\n",
              "      </script>\n",
              "    </div>\n",
              "  </div>\n",
              "  "
            ]
          },
          "metadata": {},
          "execution_count": 2
        }
      ]
    },
    {
      "cell_type": "code",
      "source": [
        "con = sqlite3.connect(\"Bestsellings_books.db\")\n",
        "cur = con.cursor()"
      ],
      "metadata": {
        "id": "ozbMd0prL69x"
      },
      "execution_count": 3,
      "outputs": []
    },
    {
      "cell_type": "code",
      "source": [
        "tabla = datos.to_sql(\"tabla_libros\", con, if_exists=\"replace\")"
      ],
      "metadata": {
        "id": "DnGSB_eaMXKh"
      },
      "execution_count": 4,
      "outputs": []
    },
    {
      "cell_type": "code",
      "source": [
        "con.commit()"
      ],
      "metadata": {
        "id": "zrsQa21QMebJ"
      },
      "execution_count": 6,
      "outputs": []
    },
    {
      "cell_type": "code",
      "source": [
        "cur = con.execute(''' SELECT Titulo FROM tabla_libros ''')\n",
        "\n",
        "for row in cur:\n",
        "  print(row)"
      ],
      "metadata": {
        "colab": {
          "base_uri": "https://localhost:8080/"
        },
        "id": "VqK7roA4MszJ",
        "outputId": "72b6f0d3-0b2c-422e-b19a-6c168fb46ffa"
      },
      "execution_count": 8,
      "outputs": [
        {
          "output_type": "stream",
          "name": "stdout",
          "text": [
            "(\"                    I Don't Need Therapy\",)\n",
            "(\"                    It Ends With Us: The most heartbreaking novel you'll ever read\",)\n",
            "('                    Verity',)\n",
            "('                    JOURNEY. THE ART OF CARLES DALMAU',)\n",
            "('                    The Seven Moons of Maali Almeida',)\n",
            "('                    Stellarlune',)\n",
            "('                    Atomic Habits',)\n",
            "('                    Seven Husbands of Evelyn Hugo',)\n",
            "('                    The Husky and His White Cat Shizun: Erha He Ta De Bai Mao Shizun (Novel) Vol. 1',)\n",
            "('                    It Starts with Us',)\n",
            "('                    Before the Coffee Gets Cold',)\n",
            "('                    The Body Keeps the Score',)\n",
            "('                    Ugly Love',)\n",
            "('                    The Midnight Library',)\n",
            "('                    Small Things Like These',)\n",
            "('                    TommyInnit Says...The Quote Book',)\n",
            "(\"                    I'm Glad My Mom Died\",)\n",
            "('                    The Secret History',)\n",
            "('                    The Thursday Murder Club',)\n",
            "(\"                    Heaven Official's Blessing: Tian Guan Ci Fu (Novel) Vol. 5\",)\n",
            "('                    Where the Crawdads Sing',)\n",
            "('                    Harry Potter and the Order of the Phoenix',)\n",
            "('                    Surrender',)\n",
            "('                    Small Things Like These',)\n",
            "('                    Twisted Love',)\n",
            "('                    Friends, Lovers and the Big Terrible Thing',)\n",
            "('                    Chainsaw Man, Vol. 1',)\n",
            "('                    The Climate Book',)\n",
            "('                    Spy x Family, Vol. 3',)\n",
            "('                    Lucy by the Sea',)\n",
            "('                    The Fall of Numenor',)\n",
            "('                    Everything I Know About Love',)\n",
            "('                    The Invisible Life of Addie LaRue - Illustrated edition',)\n",
            "('                    The Jolly Christmas Postman',)\n",
            "('                    No Longer Human',)\n",
            "('                    The One Thing',)\n",
            "('                    The Love Hypothesis',)\n",
            "(\"                    A Good Girl's Guide to Murder\",)\n",
            "('                    Chainsaw Man, Vol. 2',)\n",
            "('                    Reminders of Him',)\n",
            "('                    Glucose Revolution',)\n",
            "('                    Cinema Speculation',)\n",
            "('                    The Silent Patient',)\n",
            "('                    Conversations on Love',)\n",
            "('                    The Psychology of Money',)\n",
            "(\"                    Roald Dahl's Marvellous Joke Book\",)\n",
            "('                    Loss',)\n",
            "('                    The Mindful High Performer',)\n",
            "('                    If We Were Villains',)\n",
            "('                    A Ukrainian Christmas',)\n",
            "('                    Foster',)\n",
            "('                    Twisted Games',)\n",
            "('                    Chainsaw Man, Vol. 4',)\n",
            "('                    Brain Games For Clever Kids (R)',)\n",
            "('                    Grandmaster of Demonic Cultivation: Mo Dao Zu Shi (Novel) Vol. 4',)\n",
            "('                    The Baddies',)\n",
            "('                    12 Rules for Life',)\n",
            "('                    Chainsaw Man, Vol. 3',)\n",
            "(\"                    Man's Search For Meaning\",)\n"
          ]
        }
      ]
    },
    {
      "cell_type": "code",
      "source": [
        "cur = con.execute(''' ALTER TABLE tabla_libros ADD Genero VARCHAR(15) ''')\n"
      ],
      "metadata": {
        "colab": {
          "base_uri": "https://localhost:8080/",
          "height": 165
        },
        "id": "s89ajogMM8nK",
        "outputId": "3946c6f2-98d6-44a2-cb65-476800684f3e"
      },
      "execution_count": 11,
      "outputs": [
        {
          "output_type": "error",
          "ename": "TypeError",
          "evalue": "ignored",
          "traceback": [
            "\u001b[0;31m---------------------------------------------------------------------------\u001b[0m",
            "\u001b[0;31mTypeError\u001b[0m                                 Traceback (most recent call last)",
            "\u001b[0;32m<ipython-input-11-8f17822459a2>\u001b[0m in \u001b[0;36m<module>\u001b[0;34m\u001b[0m\n\u001b[0;32m----> 1\u001b[0;31m \u001b[0mcur\u001b[0m \u001b[0;34m=\u001b[0m \u001b[0mcon\u001b[0m\u001b[0;34m.\u001b[0m\u001b[0mexecute\u001b[0m\u001b[0;34m(\u001b[0m\u001b[0;34m''' ALTER TABLE tabla_libros ADD Genero VARCHAR(15) '''\u001b[0m\u001b[0;34m,\u001b[0m \u001b[0mif_exists\u001b[0m\u001b[0;34m=\u001b[0m\u001b[0;34m\"replace\"\u001b[0m\u001b[0;34m)\u001b[0m\u001b[0;34m\u001b[0m\u001b[0;34m\u001b[0m\u001b[0m\n\u001b[0m",
            "\u001b[0;31mTypeError\u001b[0m: execute() takes no keyword arguments"
          ]
        }
      ]
    },
    {
      "cell_type": "code",
      "source": [
        "con.commit()"
      ],
      "metadata": {
        "id": "zhYMinglNS_h"
      },
      "execution_count": 12,
      "outputs": []
    },
    {
      "cell_type": "code",
      "source": [
        "ver = con.execute(''' SELECT * FROM tabla_libros WHERE Autor = \"Colleen Hoover\"\t''')\n",
        "ver.fetchall()"
      ],
      "metadata": {
        "colab": {
          "base_uri": "https://localhost:8080/"
        },
        "id": "PGRuZAtVPbG6",
        "outputId": "c092578f-ee56-445c-f130-3d9dba84b5b8"
      },
      "execution_count": 20,
      "outputs": [
        {
          "output_type": "execute_result",
          "data": {
            "text/plain": [
              "[(1,\n",
              "  \"                    It Ends With Us: The most heartbreaking novel you'll ever read\",\n",
              "  'Colleen Hoover',\n",
              "  2016,\n",
              "  12.52,\n",
              "  None),\n",
              " (2, '                    Verity', 'Colleen Hoover', 2022, 7.37, None),\n",
              " (9,\n",
              "  '                    It Starts with Us',\n",
              "  'Colleen Hoover',\n",
              "  2019,\n",
              "  17.4,\n",
              "  None),\n",
              " (12, '                    Ugly Love', 'Colleen Hoover', 2021, 9.63, None),\n",
              " (39,\n",
              "  '                    Reminders of Him',\n",
              "  'Colleen Hoover',\n",
              "  2022,\n",
              "  12.01,\n",
              "  None)]"
            ]
          },
          "metadata": {},
          "execution_count": 20
        }
      ]
    }
  ]
}
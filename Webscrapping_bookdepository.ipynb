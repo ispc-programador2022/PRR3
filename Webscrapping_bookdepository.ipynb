{
  "nbformat": 4,
  "nbformat_minor": 0,
  "metadata": {
    "colab": {
      "provenance": []
    },
    "kernelspec": {
      "name": "python3",
      "display_name": "Python 3"
    },
    "language_info": {
      "name": "python"
    }
  },
  "cells": [
    {
      "cell_type": "code",
      "execution_count": null,
      "metadata": {
        "id": "aFd7FMbw7DOl"
      },
      "outputs": [],
      "source": [
        "from bs4 import BeautifulSoup\n",
        "import requests\n",
        "import pandas as pd"
      ]
    },
    {
      "cell_type": "code",
      "source": [
        "%cd /content/drive/MyDrive/ISPC/"
      ],
      "metadata": {
        "colab": {
          "base_uri": "https://localhost:8080/"
        },
        "id": "7vHXTYTNBkyz",
        "outputId": "d411a8e8-cc0b-42db-85f1-2309d3b93689"
      },
      "execution_count": null,
      "outputs": [
        {
          "output_type": "stream",
          "name": "stdout",
          "text": [
            "/content/drive/MyDrive/ISPC\n"
          ]
        }
      ]
    },
    {
      "cell_type": "code",
      "source": [
        "url = \"https://www.bookdepository.com/es/bestsellers\"  #pagina 1\n",
        "url2 = \"https://www.bookdepository.com/es/bestsellers?page=2\" #pagina 2\n",
        "page = requests.get(url)\n",
        "soup = BeautifulSoup(page.content, \"html.parser\")\n",
        "page2 = requests.get(url2)\n",
        "soup2 = BeautifulSoup(page2.content, \"html.parser\")"
      ],
      "metadata": {
        "id": "YMIFVUUk7bmv"
      },
      "execution_count": null,
      "outputs": []
    },
    {
      "cell_type": "code",
      "source": [
        "#mapeamos\n",
        "titulo  = soup.find_all(\"h3\", class_=\"title\")   #titulos \n",
        "autor  = soup.find_all(\"p\", class_=\"author\")    #autores \n",
        "anio  = soup.find_all(\"p\", class_=\"published\")   #publicacion \n",
        "precio  = soup.find_all(\"span\", class_=\"sale-price\")   #valor\n",
        "\n",
        "titulo2  = soup2.find_all(\"h3\", class_=\"title\")   #titulos \n",
        "autor2  = soup2.find_all(\"p\", class_=\"author\")    #autores \n",
        "anio2  = soup2.find_all(\"p\", class_=\"published\")   #publicacion \n",
        "precio2  = soup2.find_all(\"span\", class_=\"sale-price\")   #valor"
      ],
      "metadata": {
        "id": "DDRHR-ky7hpW"
      },
      "execution_count": null,
      "outputs": []
    },
    {
      "cell_type": "code",
      "source": [
        "titulos = []\n",
        "\n",
        "for i in titulo:\n",
        "  i = i.get_text().replace(\"\\n\", \"\")\n",
        "  titulos.append(i.replace(\"'                       \", \"\"))\n",
        "\n",
        "for i in titulo2:\n",
        "  i = i.get_text().replace(\"\\n\", \"\")\n",
        "  titulos.append(i.replace(\"'                       \", \"\"))\n",
        "\n"
      ],
      "metadata": {
        "id": "iQ-wFtxs8DJy"
      },
      "execution_count": null,
      "outputs": []
    },
    {
      "cell_type": "code",
      "source": [
        "autores = []\n",
        "\n",
        "for i in autor:\n",
        "  i = i.get_text().replace(\"\\n\", \"\")\n",
        "  autores.append(i.replace(\"'                       \", \"\"))\n",
        "\n",
        "for i in autor2:\n",
        "  i = i.get_text().replace(\"\\n\", \"\")\n",
        "  autores.append(i.replace(\"'                       \", \"\"))\n"
      ],
      "metadata": {
        "id": "jWKsYlzDj5Cd"
      },
      "execution_count": null,
      "outputs": []
    },
    {
      "cell_type": "code",
      "source": [
        "anios = []\n",
        "\n",
        "for i in anio:\n",
        "  i = i.get_text()\n",
        "  anios.append(i)\n",
        "\n",
        "for i in anio2:\n",
        "  i = i.get_text()\n",
        "  anios.append(i)\n",
        "\n",
        "publicacion = []\n",
        "c = 0\n",
        "for i in anios:\n",
        "  i = anios[c]\n",
        "  publicacion.append(i[-4:])\n",
        "  c +=1\n"
      ],
      "metadata": {
        "id": "aavwYu-6kYba"
      },
      "execution_count": null,
      "outputs": []
    },
    {
      "cell_type": "code",
      "source": [
        "valor = []\n",
        "\n",
        "for i in precio:\n",
        "  valor.append(i.get_text())\n",
        "\n",
        "for i in precio2:\n",
        "  valor.append(i.get_text())\n",
        "\n",
        "precios = []\n",
        "c = 0\n",
        "for i in valor:\n",
        "  i = valor[c]\n",
        "  precios.append(i[3:])\n",
        "  c +=1\n",
        "\n",
        "\n",
        "\n"
      ],
      "metadata": {
        "id": "m3mliAf0rU3M"
      },
      "execution_count": null,
      "outputs": []
    },
    {
      "cell_type": "code",
      "source": [
        "tabla = pd.DataFrame(zip(titulos, autores, publicacion, precios), columns= [\"Titulo\", \"Autor\", \"Fecha_Publicacion\", \"Precio_en_dolares\"])\n",
        "\n",
        "tabla.head()\n"
      ],
      "metadata": {
        "colab": {
          "base_uri": "https://localhost:8080/",
          "height": 206
        },
        "id": "YJm8vnizsOQZ",
        "outputId": "74ded534-8d44-4449-9085-359d03a2e993"
      },
      "execution_count": null,
      "outputs": [
        {
          "output_type": "execute_result",
          "data": {
            "text/plain": [
              "                                              Titulo                Autor  \\\n",
              "0                               I Don't Need Therapy           Toni Lodge   \n",
              "1                      It Ends With Us: The most ...       Colleen Hoover   \n",
              "2                                             Verity       Colleen Hoover   \n",
              "3                      JOURNEY. THE ART OF CARLES...        CARLES DALMAU   \n",
              "4                      The Seven Moons of Maali A...  Shehan Karunatilaka   \n",
              "\n",
              "  Fecha_Publicacion Precio_en_dolares  \n",
              "0              2023             19.79  \n",
              "1              2016              9.79  \n",
              "2              2022              7.37  \n",
              "3              2022             32.23  \n",
              "4              2022             18.66  "
            ],
            "text/html": [
              "\n",
              "  <div id=\"df-df731ec0-55e9-41ee-a1c1-f21a50caed7d\">\n",
              "    <div class=\"colab-df-container\">\n",
              "      <div>\n",
              "<style scoped>\n",
              "    .dataframe tbody tr th:only-of-type {\n",
              "        vertical-align: middle;\n",
              "    }\n",
              "\n",
              "    .dataframe tbody tr th {\n",
              "        vertical-align: top;\n",
              "    }\n",
              "\n",
              "    .dataframe thead th {\n",
              "        text-align: right;\n",
              "    }\n",
              "</style>\n",
              "<table border=\"1\" class=\"dataframe\">\n",
              "  <thead>\n",
              "    <tr style=\"text-align: right;\">\n",
              "      <th></th>\n",
              "      <th>Titulo</th>\n",
              "      <th>Autor</th>\n",
              "      <th>Fecha_Publicacion</th>\n",
              "      <th>Precio_en_dolares</th>\n",
              "    </tr>\n",
              "  </thead>\n",
              "  <tbody>\n",
              "    <tr>\n",
              "      <th>0</th>\n",
              "      <td>I Don't Need Therapy</td>\n",
              "      <td>Toni Lodge</td>\n",
              "      <td>2023</td>\n",
              "      <td>19.79</td>\n",
              "    </tr>\n",
              "    <tr>\n",
              "      <th>1</th>\n",
              "      <td>It Ends With Us: The most ...</td>\n",
              "      <td>Colleen Hoover</td>\n",
              "      <td>2016</td>\n",
              "      <td>9.79</td>\n",
              "    </tr>\n",
              "    <tr>\n",
              "      <th>2</th>\n",
              "      <td>Verity</td>\n",
              "      <td>Colleen Hoover</td>\n",
              "      <td>2022</td>\n",
              "      <td>7.37</td>\n",
              "    </tr>\n",
              "    <tr>\n",
              "      <th>3</th>\n",
              "      <td>JOURNEY. THE ART OF CARLES...</td>\n",
              "      <td>CARLES DALMAU</td>\n",
              "      <td>2022</td>\n",
              "      <td>32.23</td>\n",
              "    </tr>\n",
              "    <tr>\n",
              "      <th>4</th>\n",
              "      <td>The Seven Moons of Maali A...</td>\n",
              "      <td>Shehan Karunatilaka</td>\n",
              "      <td>2022</td>\n",
              "      <td>18.66</td>\n",
              "    </tr>\n",
              "  </tbody>\n",
              "</table>\n",
              "</div>\n",
              "      <button class=\"colab-df-convert\" onclick=\"convertToInteractive('df-df731ec0-55e9-41ee-a1c1-f21a50caed7d')\"\n",
              "              title=\"Convert this dataframe to an interactive table.\"\n",
              "              style=\"display:none;\">\n",
              "        \n",
              "  <svg xmlns=\"http://www.w3.org/2000/svg\" height=\"24px\"viewBox=\"0 0 24 24\"\n",
              "       width=\"24px\">\n",
              "    <path d=\"M0 0h24v24H0V0z\" fill=\"none\"/>\n",
              "    <path d=\"M18.56 5.44l.94 2.06.94-2.06 2.06-.94-2.06-.94-.94-2.06-.94 2.06-2.06.94zm-11 1L8.5 8.5l.94-2.06 2.06-.94-2.06-.94L8.5 2.5l-.94 2.06-2.06.94zm10 10l.94 2.06.94-2.06 2.06-.94-2.06-.94-.94-2.06-.94 2.06-2.06.94z\"/><path d=\"M17.41 7.96l-1.37-1.37c-.4-.4-.92-.59-1.43-.59-.52 0-1.04.2-1.43.59L10.3 9.45l-7.72 7.72c-.78.78-.78 2.05 0 2.83L4 21.41c.39.39.9.59 1.41.59.51 0 1.02-.2 1.41-.59l7.78-7.78 2.81-2.81c.8-.78.8-2.07 0-2.86zM5.41 20L4 18.59l7.72-7.72 1.47 1.35L5.41 20z\"/>\n",
              "  </svg>\n",
              "      </button>\n",
              "      \n",
              "  <style>\n",
              "    .colab-df-container {\n",
              "      display:flex;\n",
              "      flex-wrap:wrap;\n",
              "      gap: 12px;\n",
              "    }\n",
              "\n",
              "    .colab-df-convert {\n",
              "      background-color: #E8F0FE;\n",
              "      border: none;\n",
              "      border-radius: 50%;\n",
              "      cursor: pointer;\n",
              "      display: none;\n",
              "      fill: #1967D2;\n",
              "      height: 32px;\n",
              "      padding: 0 0 0 0;\n",
              "      width: 32px;\n",
              "    }\n",
              "\n",
              "    .colab-df-convert:hover {\n",
              "      background-color: #E2EBFA;\n",
              "      box-shadow: 0px 1px 2px rgba(60, 64, 67, 0.3), 0px 1px 3px 1px rgba(60, 64, 67, 0.15);\n",
              "      fill: #174EA6;\n",
              "    }\n",
              "\n",
              "    [theme=dark] .colab-df-convert {\n",
              "      background-color: #3B4455;\n",
              "      fill: #D2E3FC;\n",
              "    }\n",
              "\n",
              "    [theme=dark] .colab-df-convert:hover {\n",
              "      background-color: #434B5C;\n",
              "      box-shadow: 0px 1px 3px 1px rgba(0, 0, 0, 0.15);\n",
              "      filter: drop-shadow(0px 1px 2px rgba(0, 0, 0, 0.3));\n",
              "      fill: #FFFFFF;\n",
              "    }\n",
              "  </style>\n",
              "\n",
              "      <script>\n",
              "        const buttonEl =\n",
              "          document.querySelector('#df-df731ec0-55e9-41ee-a1c1-f21a50caed7d button.colab-df-convert');\n",
              "        buttonEl.style.display =\n",
              "          google.colab.kernel.accessAllowed ? 'block' : 'none';\n",
              "\n",
              "        async function convertToInteractive(key) {\n",
              "          const element = document.querySelector('#df-df731ec0-55e9-41ee-a1c1-f21a50caed7d');\n",
              "          const dataTable =\n",
              "            await google.colab.kernel.invokeFunction('convertToInteractive',\n",
              "                                                     [key], {});\n",
              "          if (!dataTable) return;\n",
              "\n",
              "          const docLinkHtml = 'Like what you see? Visit the ' +\n",
              "            '<a target=\"_blank\" href=https://colab.research.google.com/notebooks/data_table.ipynb>data table notebook</a>'\n",
              "            + ' to learn more about interactive tables.';\n",
              "          element.innerHTML = '';\n",
              "          dataTable['output_type'] = 'display_data';\n",
              "          await google.colab.output.renderOutput(dataTable, element);\n",
              "          const docLink = document.createElement('div');\n",
              "          docLink.innerHTML = docLinkHtml;\n",
              "          element.appendChild(docLink);\n",
              "        }\n",
              "      </script>\n",
              "    </div>\n",
              "  </div>\n",
              "  "
            ]
          },
          "metadata": {},
          "execution_count": 89
        }
      ]
    },
    {
      "cell_type": "code",
      "source": [
        "bestselling_books = tabla.to_csv(\"Libros_mas_vendidos_Bookdepository.csv\", index=False)"
      ],
      "metadata": {
        "id": "4m9kfIfrzOE7"
      },
      "execution_count": null,
      "outputs": []
    }
  ]
}
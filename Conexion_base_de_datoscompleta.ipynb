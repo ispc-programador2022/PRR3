{
  "nbformat": 4,
  "nbformat_minor": 0,
  "metadata": {
    "colab": {
      "provenance": []
    },
    "kernelspec": {
      "name": "python3",
      "display_name": "Python 3"
    },
    "language_info": {
      "name": "python"
    }
  },
  "cells": [
    {
      "cell_type": "code",
      "execution_count": 1,
      "metadata": {
        "id": "hWYkyO-CqgH3"
      },
      "outputs": [],
      "source": [
        "import sqlite3\n",
        "import pandas as pd"
      ]
    },
    {
      "cell_type": "code",
      "source": [
        "datos = pd.read_csv(\"/content/drive/MyDrive/ISPC/PRR3/Libros_mas_vendidos_Bookdepository.csv\")\n",
        "\n",
        "datos.head()"
      ],
      "metadata": {
        "id": "WqrOflBMsYlq",
        "colab": {
          "base_uri": "https://localhost:8080/",
          "height": 206
        },
        "outputId": "ba573492-9cd9-40fa-e05e-f9a546cfb1d6"
      },
      "execution_count": 2,
      "outputs": [
        {
          "output_type": "execute_result",
          "data": {
            "text/plain": [
              "                                              Titulo                Autor  \\\n",
              "0                               I Don't Need Therapy           Toni Lodge   \n",
              "1                      It Ends With Us: The most ...       Colleen Hoover   \n",
              "2                                             Verity       Colleen Hoover   \n",
              "3                      JOURNEY. THE ART OF CARLES...        CARLES DALMAU   \n",
              "4                      The Seven Moons of Maali A...  Shehan Karunatilaka   \n",
              "\n",
              "   Fecha_Publicacion  Precio_en_dolares  \n",
              "0               2023              19.79  \n",
              "1               2016              12.52  \n",
              "2               2022               7.37  \n",
              "3               2022              32.23  \n",
              "4               2022              18.66  "
            ],
            "text/html": [
              "\n",
              "  <div id=\"df-7e6b5b6d-6045-462a-b239-8076dc496b46\">\n",
              "    <div class=\"colab-df-container\">\n",
              "      <div>\n",
              "<style scoped>\n",
              "    .dataframe tbody tr th:only-of-type {\n",
              "        vertical-align: middle;\n",
              "    }\n",
              "\n",
              "    .dataframe tbody tr th {\n",
              "        vertical-align: top;\n",
              "    }\n",
              "\n",
              "    .dataframe thead th {\n",
              "        text-align: right;\n",
              "    }\n",
              "</style>\n",
              "<table border=\"1\" class=\"dataframe\">\n",
              "  <thead>\n",
              "    <tr style=\"text-align: right;\">\n",
              "      <th></th>\n",
              "      <th>Titulo</th>\n",
              "      <th>Autor</th>\n",
              "      <th>Fecha_Publicacion</th>\n",
              "      <th>Precio_en_dolares</th>\n",
              "    </tr>\n",
              "  </thead>\n",
              "  <tbody>\n",
              "    <tr>\n",
              "      <th>0</th>\n",
              "      <td>I Don't Need Therapy</td>\n",
              "      <td>Toni Lodge</td>\n",
              "      <td>2023</td>\n",
              "      <td>19.79</td>\n",
              "    </tr>\n",
              "    <tr>\n",
              "      <th>1</th>\n",
              "      <td>It Ends With Us: The most ...</td>\n",
              "      <td>Colleen Hoover</td>\n",
              "      <td>2016</td>\n",
              "      <td>12.52</td>\n",
              "    </tr>\n",
              "    <tr>\n",
              "      <th>2</th>\n",
              "      <td>Verity</td>\n",
              "      <td>Colleen Hoover</td>\n",
              "      <td>2022</td>\n",
              "      <td>7.37</td>\n",
              "    </tr>\n",
              "    <tr>\n",
              "      <th>3</th>\n",
              "      <td>JOURNEY. THE ART OF CARLES...</td>\n",
              "      <td>CARLES DALMAU</td>\n",
              "      <td>2022</td>\n",
              "      <td>32.23</td>\n",
              "    </tr>\n",
              "    <tr>\n",
              "      <th>4</th>\n",
              "      <td>The Seven Moons of Maali A...</td>\n",
              "      <td>Shehan Karunatilaka</td>\n",
              "      <td>2022</td>\n",
              "      <td>18.66</td>\n",
              "    </tr>\n",
              "  </tbody>\n",
              "</table>\n",
              "</div>\n",
              "      <button class=\"colab-df-convert\" onclick=\"convertToInteractive('df-7e6b5b6d-6045-462a-b239-8076dc496b46')\"\n",
              "              title=\"Convert this dataframe to an interactive table.\"\n",
              "              style=\"display:none;\">\n",
              "        \n",
              "  <svg xmlns=\"http://www.w3.org/2000/svg\" height=\"24px\"viewBox=\"0 0 24 24\"\n",
              "       width=\"24px\">\n",
              "    <path d=\"M0 0h24v24H0V0z\" fill=\"none\"/>\n",
              "    <path d=\"M18.56 5.44l.94 2.06.94-2.06 2.06-.94-2.06-.94-.94-2.06-.94 2.06-2.06.94zm-11 1L8.5 8.5l.94-2.06 2.06-.94-2.06-.94L8.5 2.5l-.94 2.06-2.06.94zm10 10l.94 2.06.94-2.06 2.06-.94-2.06-.94-.94-2.06-.94 2.06-2.06.94z\"/><path d=\"M17.41 7.96l-1.37-1.37c-.4-.4-.92-.59-1.43-.59-.52 0-1.04.2-1.43.59L10.3 9.45l-7.72 7.72c-.78.78-.78 2.05 0 2.83L4 21.41c.39.39.9.59 1.41.59.51 0 1.02-.2 1.41-.59l7.78-7.78 2.81-2.81c.8-.78.8-2.07 0-2.86zM5.41 20L4 18.59l7.72-7.72 1.47 1.35L5.41 20z\"/>\n",
              "  </svg>\n",
              "      </button>\n",
              "      \n",
              "  <style>\n",
              "    .colab-df-container {\n",
              "      display:flex;\n",
              "      flex-wrap:wrap;\n",
              "      gap: 12px;\n",
              "    }\n",
              "\n",
              "    .colab-df-convert {\n",
              "      background-color: #E8F0FE;\n",
              "      border: none;\n",
              "      border-radius: 50%;\n",
              "      cursor: pointer;\n",
              "      display: none;\n",
              "      fill: #1967D2;\n",
              "      height: 32px;\n",
              "      padding: 0 0 0 0;\n",
              "      width: 32px;\n",
              "    }\n",
              "\n",
              "    .colab-df-convert:hover {\n",
              "      background-color: #E2EBFA;\n",
              "      box-shadow: 0px 1px 2px rgba(60, 64, 67, 0.3), 0px 1px 3px 1px rgba(60, 64, 67, 0.15);\n",
              "      fill: #174EA6;\n",
              "    }\n",
              "\n",
              "    [theme=dark] .colab-df-convert {\n",
              "      background-color: #3B4455;\n",
              "      fill: #D2E3FC;\n",
              "    }\n",
              "\n",
              "    [theme=dark] .colab-df-convert:hover {\n",
              "      background-color: #434B5C;\n",
              "      box-shadow: 0px 1px 3px 1px rgba(0, 0, 0, 0.15);\n",
              "      filter: drop-shadow(0px 1px 2px rgba(0, 0, 0, 0.3));\n",
              "      fill: #FFFFFF;\n",
              "    }\n",
              "  </style>\n",
              "\n",
              "      <script>\n",
              "        const buttonEl =\n",
              "          document.querySelector('#df-7e6b5b6d-6045-462a-b239-8076dc496b46 button.colab-df-convert');\n",
              "        buttonEl.style.display =\n",
              "          google.colab.kernel.accessAllowed ? 'block' : 'none';\n",
              "\n",
              "        async function convertToInteractive(key) {\n",
              "          const element = document.querySelector('#df-7e6b5b6d-6045-462a-b239-8076dc496b46');\n",
              "          const dataTable =\n",
              "            await google.colab.kernel.invokeFunction('convertToInteractive',\n",
              "                                                     [key], {});\n",
              "          if (!dataTable) return;\n",
              "\n",
              "          const docLinkHtml = 'Like what you see? Visit the ' +\n",
              "            '<a target=\"_blank\" href=https://colab.research.google.com/notebooks/data_table.ipynb>data table notebook</a>'\n",
              "            + ' to learn more about interactive tables.';\n",
              "          element.innerHTML = '';\n",
              "          dataTable['output_type'] = 'display_data';\n",
              "          await google.colab.output.renderOutput(dataTable, element);\n",
              "          const docLink = document.createElement('div');\n",
              "          docLink.innerHTML = docLinkHtml;\n",
              "          element.appendChild(docLink);\n",
              "        }\n",
              "      </script>\n",
              "    </div>\n",
              "  </div>\n",
              "  "
            ]
          },
          "metadata": {},
          "execution_count": 2
        }
      ]
    },
    {
      "cell_type": "code",
      "source": [
        "con = sqlite3.connect(\"Bestsellings_books.db\")\n",
        "cur = con.cursor()"
      ],
      "metadata": {
        "id": "ozbMd0prL69x"
      },
      "execution_count": 3,
      "outputs": []
    },
    {
      "cell_type": "code",
      "source": [
        "tabla = datos.to_sql(\"tabla_libros\", con, if_exists=\"replace\")"
      ],
      "metadata": {
        "id": "DnGSB_eaMXKh"
      },
      "execution_count": 4,
      "outputs": []
    },
    {
      "cell_type": "code",
      "source": [
        "con.commit()"
      ],
      "metadata": {
        "id": "zrsQa21QMebJ"
      },
      "execution_count": 5,
      "outputs": []
    },
    {
      "cell_type": "code",
      "source": [
        "cur = con.execute(''' SELECT Titulo FROM tabla_libros ''')\n",
        "\n",
        "for row in cur:\n",
        "  print(row)"
      ],
      "metadata": {
        "colab": {
          "base_uri": "https://localhost:8080/"
        },
        "id": "VqK7roA4MszJ",
        "outputId": "039787cb-aa41-4fe7-b250-58084d11a266"
      },
      "execution_count": 6,
      "outputs": [
        {
          "output_type": "stream",
          "name": "stdout",
          "text": [
            "(\"                    I Don't Need Therapy\",)\n",
            "(\"                    It Ends With Us: The most heartbreaking novel you'll ever read\",)\n",
            "('                    Verity',)\n",
            "('                    JOURNEY. THE ART OF CARLES DALMAU',)\n",
            "('                    The Seven Moons of Maali Almeida',)\n",
            "('                    Stellarlune',)\n",
            "('                    Atomic Habits',)\n",
            "('                    Seven Husbands of Evelyn Hugo',)\n",
            "('                    The Husky and His White Cat Shizun: Erha He Ta De Bai Mao Shizun (Novel) Vol. 1',)\n",
            "('                    It Starts with Us',)\n",
            "('                    Before the Coffee Gets Cold',)\n",
            "('                    The Body Keeps the Score',)\n",
            "('                    Ugly Love',)\n",
            "('                    The Midnight Library',)\n",
            "('                    Small Things Like These',)\n",
            "('                    TommyInnit Says...The Quote Book',)\n",
            "(\"                    I'm Glad My Mom Died\",)\n",
            "('                    The Secret History',)\n",
            "('                    The Thursday Murder Club',)\n",
            "(\"                    Heaven Official's Blessing: Tian Guan Ci Fu (Novel) Vol. 5\",)\n",
            "('                    Where the Crawdads Sing',)\n",
            "('                    Harry Potter and the Order of the Phoenix',)\n",
            "('                    Surrender',)\n",
            "('                    Small Things Like These',)\n",
            "('                    Twisted Love',)\n",
            "('                    Friends, Lovers and the Big Terrible Thing',)\n",
            "('                    Chainsaw Man, Vol. 1',)\n",
            "('                    The Climate Book',)\n",
            "('                    Spy x Family, Vol. 3',)\n",
            "('                    Lucy by the Sea',)\n",
            "('                    The Fall of Numenor',)\n",
            "('                    Everything I Know About Love',)\n",
            "('                    The Invisible Life of Addie LaRue - Illustrated edition',)\n",
            "('                    The Jolly Christmas Postman',)\n",
            "('                    No Longer Human',)\n",
            "('                    The One Thing',)\n",
            "('                    The Love Hypothesis',)\n",
            "(\"                    A Good Girl's Guide to Murder\",)\n",
            "('                    Chainsaw Man, Vol. 2',)\n",
            "('                    Reminders of Him',)\n",
            "('                    Glucose Revolution',)\n",
            "('                    Cinema Speculation',)\n",
            "('                    The Silent Patient',)\n",
            "('                    Conversations on Love',)\n",
            "('                    The Psychology of Money',)\n",
            "(\"                    Roald Dahl's Marvellous Joke Book\",)\n",
            "('                    Loss',)\n",
            "('                    The Mindful High Performer',)\n",
            "('                    If We Were Villains',)\n",
            "('                    A Ukrainian Christmas',)\n",
            "('                    Foster',)\n",
            "('                    Twisted Games',)\n",
            "('                    Chainsaw Man, Vol. 4',)\n",
            "('                    Brain Games For Clever Kids (R)',)\n",
            "('                    Grandmaster of Demonic Cultivation: Mo Dao Zu Shi (Novel) Vol. 4',)\n",
            "('                    The Baddies',)\n",
            "('                    12 Rules for Life',)\n",
            "('                    Chainsaw Man, Vol. 3',)\n",
            "(\"                    Man's Search For Meaning\",)\n"
          ]
        }
      ]
    },
    {
      "cell_type": "code",
      "source": [
        "con.commit()"
      ],
      "metadata": {
        "id": "zhYMinglNS_h"
      },
      "execution_count": null,
      "outputs": []
    },
    {
      "cell_type": "code",
      "source": [
        "ver = con.execute(''' SELECT * FROM tabla_libros WHERE Autor = \"Colleen Hoover\"\t''')\n",
        "ver.fetchall()"
      ],
      "metadata": {
        "colab": {
          "base_uri": "https://localhost:8080/"
        },
        "id": "PGRuZAtVPbG6",
        "outputId": "d19d1e43-7e85-4dfd-d3e4-8239622ecf03"
      },
      "execution_count": 7,
      "outputs": [
        {
          "output_type": "execute_result",
          "data": {
            "text/plain": [
              "[(1,\n",
              "  \"                    It Ends With Us: The most heartbreaking novel you'll ever read\",\n",
              "  'Colleen Hoover',\n",
              "  2016,\n",
              "  12.52),\n",
              " (2, '                    Verity', 'Colleen Hoover', 2022, 7.37),\n",
              " (9, '                    It Starts with Us', 'Colleen Hoover', 2019, 17.4),\n",
              " (12, '                    Ugly Love', 'Colleen Hoover', 2021, 9.63),\n",
              " (39, '                    Reminders of Him', 'Colleen Hoover', 2022, 12.01)]"
            ]
          },
          "metadata": {},
          "execution_count": 7
        }
      ]
    },
    {
      "cell_type": "code",
      "source": [
        "def buscar_por_autor(autorr):\n",
        "  ver = con.execute(''' SELECT * FROM tabla_libros WHERE Autor=? ''', (autorr,) )\n",
        "  return ver.fetchall()"
      ],
      "metadata": {
        "id": "KpxEj-T7ww5i"
      },
      "execution_count": 38,
      "outputs": []
    },
    {
      "cell_type": "code",
      "source": [
        "autorr = input(\"Ingrese un autor \")\n",
        "\n",
        "buscar_por_autor(autorr)"
      ],
      "metadata": {
        "colab": {
          "base_uri": "https://localhost:8080/"
        },
        "id": "1m2K5FvaxIfj",
        "outputId": "98a87f90-c05d-4131-b15e-833b4d91011a"
      },
      "execution_count": 62,
      "outputs": [
        {
          "name": "stdout",
          "output_type": "stream",
          "text": [
            "Ingrese un autor Colleen Hoover\n"
          ]
        },
        {
          "output_type": "execute_result",
          "data": {
            "text/plain": [
              "[(1,\n",
              "  \"                    It Ends With Us: The most heartbreaking novel you'll ever read\",\n",
              "  'Colleen Hoover',\n",
              "  2016,\n",
              "  12.52),\n",
              " (2, '                    Verity', 'Colleen Hoover', 2022, 7.37),\n",
              " (9, '                    It Starts with Us', 'Colleen Hoover', 2019, 17.4),\n",
              " (12, '                    Ugly Love', 'Colleen Hoover', 2021, 9.63),\n",
              " (39, '                    Reminders of Him', 'Colleen Hoover', 2022, 12.01)]"
            ]
          },
          "metadata": {},
          "execution_count": 62
        }
      ]
    },
    {
      "cell_type": "code",
      "source": [
        "def buscar_por_titulo(titulorr):\n",
        "  verr = con.execute(''' SELECT * FROM tabla_libros WHERE Titulo=? ''', (titulorr,) )\n",
        "  return verr.fetchall()"
      ],
      "metadata": {
        "id": "XlYTrs4dzNjL"
      },
      "execution_count": 58,
      "outputs": []
    },
    {
      "cell_type": "code",
      "source": [
        "titulorr = input(\"Ingrese un titulo \")\n",
        "\n",
        "buscar_por_titulo(titulorr) "
      ],
      "metadata": {
        "colab": {
          "base_uri": "https://localhost:8080/"
        },
        "id": "rXnbLfJVzS4b",
        "outputId": "0c1c67cb-0e5b-4926-efd4-ad8ea6bfb1a6"
      },
      "execution_count": 60,
      "outputs": [
        {
          "name": "stdout",
          "output_type": "stream",
          "text": [
            "Ingrese un titulo Ugly Love\n"
          ]
        },
        {
          "output_type": "execute_result",
          "data": {
            "text/plain": [
              "[]"
            ]
          },
          "metadata": {},
          "execution_count": 60
        }
      ]
    },
    {
      "cell_type": "code",
      "source": [
        "def buscar_por_año(anios):\n",
        "  ani = con.execute(''' SELECT * FROM tabla_libros WHERE Fecha_Publicacion=? ''', (anios,) )\n",
        "  return ani.fetchall()"
      ],
      "metadata": {
        "id": "WQll2wfh0F66"
      },
      "execution_count": 51,
      "outputs": []
    },
    {
      "cell_type": "code",
      "source": [
        "anios = input(\"Ingrese un año \")\n",
        "\n",
        "buscar_por_año(anios)"
      ],
      "metadata": {
        "colab": {
          "base_uri": "https://localhost:8080/"
        },
        "id": "MlfvQT1f0Nsy",
        "outputId": "ea255e0b-13c5-4526-bed3-324d8ba0ecf8"
      },
      "execution_count": 63,
      "outputs": [
        {
          "name": "stdout",
          "output_type": "stream",
          "text": [
            "Ingrese un año 2022\n"
          ]
        },
        {
          "output_type": "execute_result",
          "data": {
            "text/plain": [
              "[(2, '                    Verity', 'Colleen Hoover', 2022, 7.37),\n",
              " (3,\n",
              "  '                    JOURNEY. THE ART OF CARLES DALMAU',\n",
              "  'CARLES DALMAU',\n",
              "  2022,\n",
              "  32.23),\n",
              " (4,\n",
              "  '                    The Seven Moons of Maali Almeida',\n",
              "  'Shehan Karunatilaka',\n",
              "  2022,\n",
              "  18.66),\n",
              " (7,\n",
              "  '                    Seven Husbands of Evelyn Hugo',\n",
              "  'Taylor Jenkins Reid',\n",
              "  2022,\n",
              "  9.88),\n",
              " (8,\n",
              "  '                    The Husky and His White Cat Shizun: Erha He Ta De Bai Mao Shizun (Novel) Vol. 1',\n",
              "  'Rou Bao Bu Chi Rou',\n",
              "  2022,\n",
              "  17.89),\n",
              " (13, '                    The Midnight Library', 'Matt Haig', 2022, 10.01),\n",
              " (14,\n",
              "  '                    Small Things Like These',\n",
              "  'Claire Keegan',\n",
              "  2022,\n",
              "  9.42),\n",
              " (15,\n",
              "  '                    TommyInnit Says...The Quote Book',\n",
              "  'Tom Simons',\n",
              "  2022,\n",
              "  13.72),\n",
              " (18,\n",
              "  '                    The Thursday Murder Club',\n",
              "  'Richard Osman',\n",
              "  2022,\n",
              "  10.63),\n",
              " (20,\n",
              "  '                    Where the Crawdads Sing',\n",
              "  'Delia Owens',\n",
              "  2022,\n",
              "  9.99),\n",
              " (21,\n",
              "  '                    Harry Potter and the Order of the Phoenix',\n",
              "  'J.K. Rowling',\n",
              "  2022,\n",
              "  37.38),\n",
              " (22, '                    Surrender', 'Bono', 2022, 29.21),\n",
              " (23,\n",
              "  '                    Small Things Like These',\n",
              "  'Claire Keegan',\n",
              "  2022,\n",
              "  11.77),\n",
              " (24, '                    Twisted Love', 'Ana Huang', 2022, 10.22),\n",
              " (26,\n",
              "  '                    Chainsaw Man, Vol. 1',\n",
              "  'Tatsuki Fujimoto',\n",
              "  2022,\n",
              "  9.28),\n",
              " (28, '                    Spy x Family, Vol. 3', 'TATSUYA ENDO', 2022, 8.06),\n",
              " (29, '                    Lucy by the Sea', 'Elizabeth Strout', 2022, 16.84),\n",
              " (31,\n",
              "  '                    Everything I Know About Love',\n",
              "  'Dolly Alderton',\n",
              "  2022,\n",
              "  11.56),\n",
              " (38,\n",
              "  '                    Chainsaw Man, Vol. 2',\n",
              "  'Tatsuki Fujimoto',\n",
              "  2022,\n",
              "  10.38),\n",
              " (39, '                    Reminders of Him', 'Colleen Hoover', 2022, 12.01),\n",
              " (40,\n",
              "  '                    Glucose Revolution',\n",
              "  'Jessie Inchauspe',\n",
              "  2022,\n",
              "  14.99),\n",
              " (42,\n",
              "  '                    The Silent Patient',\n",
              "  'Alex Michaelides',\n",
              "  2022,\n",
              "  8.85),\n",
              " (45,\n",
              "  \"                    Roald Dahl's Marvellous Joke Book\",\n",
              "  'Roald Dahl',\n",
              "  2022,\n",
              "  7.72),\n",
              " (48, '                    If We Were Villains', 'M. L. Rio', 2022, 10.99),\n",
              " (49,\n",
              "  '                    A Ukrainian Christmas',\n",
              "  'Yaroslav Hrytsak',\n",
              "  2022,\n",
              "  15.66),\n",
              " (50, '                    Foster', 'Claire Keegan', 2022, 9.13),\n",
              " (53,\n",
              "  '                    Brain Games For Clever Kids (R)',\n",
              "  'Gareth Moore',\n",
              "  2022,\n",
              "  5.24),\n",
              " (54,\n",
              "  '                    Grandmaster of Demonic Cultivation: Mo Dao Zu Shi (Novel) Vol. 4',\n",
              "  'Mo Xiang Tong Xiu',\n",
              "  2022,\n",
              "  17.89)]"
            ]
          },
          "metadata": {},
          "execution_count": 63
        }
      ]
    }
  ]
}